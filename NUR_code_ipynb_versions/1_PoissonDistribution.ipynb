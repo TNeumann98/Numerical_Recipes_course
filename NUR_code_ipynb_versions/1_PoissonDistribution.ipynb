{
 "cells": [
  {
   "cell_type": "markdown",
   "id": "5a4d48a8",
   "metadata": {},
   "source": [
    "# Numerical recipies\n",
    "Assignment I 1 \n",
    "(09.03.23)\n",
    "\n",
    "Tina Neumann"
   ]
  },
  {
   "cell_type": "code",
   "execution_count": 16,
   "id": "3677dfa1",
   "metadata": {},
   "outputs": [],
   "source": [
    "import numpy as np"
   ]
  },
  {
   "cell_type": "code",
   "execution_count": 46,
   "id": "175127f8",
   "metadata": {},
   "outputs": [],
   "source": [
    "### Exercise 1: Poisson distribution\n",
    "# define given distribution\n",
    "def poiss_32(lam, k):\n",
    "    '''Function determines the poisson distribution P(k) of\n",
    "    input: a positive mean (lam) and an integer (k)\n",
    "    output: P(k)'''\n",
    "    lam = np.float32(lam) #redefine as 32-bit integers\n",
    "    k = np.int32(k)\n",
    "    # to decrease the calculation time:\n",
    "    # multiply by inverse instead of dividing\n",
    "    # the values are considered to be in log-scale: log(products)--> sums\n",
    "    # define k!\n",
    "    f_frac = 1.\n",
    "    for f in range(1,k+1): #range leaves out last element\n",
    "        f_frac *= f\n",
    "        \n",
    "    log_p = k*np.log(lam) - lam - np.float32(np.log(f_frac)) #logarithmic P(k)\n",
    "    p = np.exp(np.float32(log_p)) #revert log-scale\n",
    "    print('k! = ', f_frac)\n",
    "    print('log(P(k)) = ', log_p)\n",
    "    return p"
   ]
  },
  {
   "cell_type": "code",
   "execution_count": 47,
   "id": "767a2b2b",
   "metadata": {},
   "outputs": [],
   "source": [
    "def poiss_64(lam, k):\n",
    "    '''Function determines the poisson distribution P(k) of\n",
    "    input: a positive mean (lam) and an integer (k)\n",
    "    output: P(k)'''\n",
    "    lam = np.float64(lam) #redefine as 64-bit integers\n",
    "    k = np.int64(k)\n",
    "    # define k!\n",
    "    f_frac = 1.\n",
    "    for f in range(1,k+1): #range leaves out last element\n",
    "        f_frac *= f\n",
    "\n",
    "    log_p = k*np.log(lam) - lam - np.log(f_frac) #logarithmic P(k)\n",
    "    p = np.exp(np.float64(log_p)) #revert log-scale\n",
    "    print('k! = ', f_frac)\n",
    "    print('log(P(k)) = ', log_p)\n",
    "    return p"
   ]
  },
  {
   "cell_type": "code",
   "execution_count": 48,
   "id": "6938d6ed",
   "metadata": {},
   "outputs": [],
   "source": [
    "from scipy.special import factorial\n",
    "def poiss(lam, k):\n",
    "    '''Function determines the poisson distribution P(k) of\n",
    "    input: a positive mean (lam) and an integer (k)\n",
    "    output: P(k)'''\n",
    "    lam = np.float64(lam)\n",
    "    k = np.int64(k)\n",
    "    #with numpy functions\n",
    "    # define k!\n",
    "    f_frac = factorial(k)\n",
    "    p =  lam**k*np.exp(-lam)*f_frac**(-1)\n",
    "\n",
    "    return p"
   ]
  },
  {
   "cell_type": "code",
   "execution_count": 59,
   "id": "141f968e",
   "metadata": {},
   "outputs": [
    {
     "name": "stdout",
     "output_type": "stream",
     "text": [
      "1 0\n",
      "\n",
      "k! =  1.0\n",
      "log(P(k)) =  -1.0\n",
      "The given values are lam & k: 1  & 0\n",
      "\n",
      "k! =  1.0\n",
      "log(P(k)) =  -1.0\n",
      "For 32 bits this results in a poisson distribution of P(k) =  0.367879\n",
      "k! =  1.0\n",
      "log(P(k)) =  -1.0\n",
      "For 64 bits this results in a poisson distribution of P(k) =  0.367879\n",
      "For numpy-functions this results in a poisson distribution of P(k) =  0.367879\n",
      "5 10\n",
      "\n",
      "k! =  3628800.0\n",
      "log(P(k)) =  -4.01003360748291\n",
      "The given values are lam & k: 5  & 10\n",
      "\n",
      "k! =  3628800.0\n",
      "log(P(k)) =  -4.01003360748291\n",
      "For 32 bits this results in a poisson distribution of P(k) =  0.018133\n",
      "k! =  3628800.0\n",
      "log(P(k)) =  -4.010033448734511\n",
      "For 64 bits this results in a poisson distribution of P(k) =  0.018133\n",
      "For numpy-functions this results in a poisson distribution of P(k) =  0.018133\n",
      "3 21\n",
      "\n",
      "k! =  5.109094217170944e+19\n",
      "log(P(k)) =  -25.309279918670654\n",
      "The given values are lam & k: 3  & 21\n",
      "\n",
      "k! =  5.109094217170944e+19\n",
      "log(P(k)) =  -25.309279918670654\n",
      "For 32 bits this results in a poisson distribution of P(k) =  0.0\n",
      "k! =  5.109094217170944e+19\n",
      "log(P(k)) =  -25.309280836446607\n",
      "For 64 bits this results in a poisson distribution of P(k) =  0.0\n",
      "For numpy-functions this results in a poisson distribution of P(k) =  0.0\n",
      "2.6 40\n",
      "\n",
      "k! =  8.159152832478977e+47\n",
      "log(P(k)) =  -74.70018482208252\n",
      "The given values are lam & k: 2.6  & 40\n",
      "\n",
      "k! =  8.159152832478977e+47\n",
      "log(P(k)) =  -74.70018482208252\n",
      "For 32 bits this results in a poisson distribution of P(k) =  0.0\n",
      "k! =  8.159152832478977e+47\n",
      "log(P(k)) =  -74.70018191365995\n",
      "For 64 bits this results in a poisson distribution of P(k) =  0.0\n",
      "For numpy-functions this results in a poisson distribution of P(k) =  0.0\n",
      "101 200\n",
      "\n",
      "k! =  inf\n",
      "log(P(k)) =  -inf\n",
      "The given values are lam & k: 101  & 200\n",
      "\n",
      "k! =  inf\n",
      "log(P(k)) =  -inf\n",
      "For 32 bits this results in a poisson distribution of P(k) =  0.0\n",
      "k! =  inf\n",
      "log(P(k)) =  -inf\n",
      "For 64 bits this results in a poisson distribution of P(k) =  0.0\n",
      "For numpy-functions this results in a poisson distribution of P(k) =  nan\n"
     ]
    },
    {
     "name": "stderr",
     "output_type": "stream",
     "text": [
      "/tmp/ipykernel_7111/63993810.py:11: RuntimeWarning: overflow encountered in double_scalars\n",
      "  p =  lam**k*np.exp(-lam)*f_frac**(-1)\n",
      "/tmp/ipykernel_7111/63993810.py:11: RuntimeWarning: invalid value encountered in double_scalars\n",
      "  p =  lam**k*np.exp(-lam)*f_frac**(-1)\n"
     ]
    }
   ],
   "source": [
    "# read-in given values\n",
    "with open('input_1a.txt') as f:\n",
    "    lines = f.readlines()[2:]\n",
    "    for line in lines:\n",
    "            #define lambda, k\n",
    "            mean_lam, k_int = line.split('\\t')\n",
    "            print(mean_lam,k_int)\n",
    "            # problem with rounding, calculate significant digit\n",
    "            dig = 1\n",
    "            res = poiss_32(mean_lam,k_int)\n",
    "            while res*(dig*1e1)**(-1) >= 1.:\n",
    "                dig += 1\n",
    "                \n",
    "            print('The given values are lam & k: '+ mean_lam, ' & '+ k_int)\n",
    "            print('For 32 bits this results in a poisson distribution of P(k) = ', round(poiss_32(mean_lam,k_int),dig+5)) #print 6 relevant digits\n",
    "            print('For 64 bits this results in a poisson distribution of P(k) = ', round(poiss_64(mean_lam,k_int),dig+5)) #print 6 relevant digits\n",
    "            print('For numpy-functions this results in a poisson distribution of P(k) = ', round(poiss(mean_lam,k_int),dig+5)) #print 6 relevant digits"
   ]
  }
 ],
 "metadata": {
  "kernelspec": {
   "display_name": "Python 3 (ipykernel)",
   "language": "python",
   "name": "python3"
  },
  "language_info": {
   "codemirror_mode": {
    "name": "ipython",
    "version": 3
   },
   "file_extension": ".py",
   "mimetype": "text/x-python",
   "name": "python",
   "nbconvert_exporter": "python",
   "pygments_lexer": "ipython3",
   "version": "3.10.6"
  }
 },
 "nbformat": 4,
 "nbformat_minor": 5
}
